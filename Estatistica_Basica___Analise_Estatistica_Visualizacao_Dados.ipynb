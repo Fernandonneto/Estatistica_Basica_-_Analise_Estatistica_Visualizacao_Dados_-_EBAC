{
  "nbformat": 4,
  "nbformat_minor": 0,
  "metadata": {
    "colab": {
      "provenance": []
    },
    "kernelspec": {
      "name": "python3",
      "display_name": "Python 3"
    },
    "language_info": {
      "name": "python"
    }
  },
  "cells": [
    {
      "cell_type": "markdown",
      "source": [
        "# **MÓDULO 13**\n",
        "# Projeto - Fundamentos da Descoberta de Dados"
      ],
      "metadata": {
        "id": "VOTu7U3Mvxzq"
      }
    },
    {
      "cell_type": "markdown",
      "source": [
        "Nesse projeto trabalharemos com a base de dados de produtos de um supermercado do Chile.\n",
        "A ideia é que vocês apliquem os conceitos estatísticos vistos no último módulo, mais os conceitos de visualizações de dados através de gráficos e finalizem publicando no seu github!"
      ],
      "metadata": {
        "id": "-HYgkdAywLd0"
      }
    },
    {
      "cell_type": "code",
      "source": [
        "import pandas as pd\n",
        "import matplotlib.pyplot as plt\n",
        "import plotly.express as px"
      ],
      "metadata": {
        "id": "OTdTnbzUwE2X"
      },
      "execution_count": 1,
      "outputs": []
    },
    {
      "cell_type": "markdown",
      "source": [
        "Faça a leitura dos dados do arquivo CSV:\n",
        "\n",
        "\n",
        "Altere o código abaixo de acordo com seu diretório."
      ],
      "metadata": {
        "id": "ky1Dk_KWywEa"
      }
    },
    {
      "cell_type": "code",
      "source": [
        "# Importar o arquivo do desktop\n",
        "from google.colab import files"
      ],
      "metadata": {
        "id": "tkEa3M04zrc-"
      },
      "execution_count": 2,
      "outputs": []
    },
    {
      "cell_type": "code",
      "source": [
        "# Fazer o upload do arquivo\n",
        "uploaded = files.upload()"
      ],
      "metadata": {
        "colab": {
          "base_uri": "https://localhost:8080/",
          "height": 110
        },
        "id": "QB_0W9DqzyzX",
        "outputId": "895abd6d-2046-411a-8c9b-e2360a22c2fa"
      },
      "execution_count": 3,
      "outputs": [
        {
          "output_type": "display_data",
          "data": {
            "text/plain": [
              "<IPython.core.display.HTML object>"
            ],
            "text/html": [
              "\n",
              "     <input type=\"file\" id=\"files-6c002c97-6ae8-4a01-9885-fa3c83c816f5\" name=\"files[]\" multiple disabled\n",
              "        style=\"border:none\" />\n",
              "     <output id=\"result-6c002c97-6ae8-4a01-9885-fa3c83c816f5\">\n",
              "      Upload widget is only available when the cell has been executed in the\n",
              "      current browser session. Please rerun this cell to enable.\n",
              "      </output>\n",
              "      <script>// Copyright 2017 Google LLC\n",
              "//\n",
              "// Licensed under the Apache License, Version 2.0 (the \"License\");\n",
              "// you may not use this file except in compliance with the License.\n",
              "// You may obtain a copy of the License at\n",
              "//\n",
              "//      http://www.apache.org/licenses/LICENSE-2.0\n",
              "//\n",
              "// Unless required by applicable law or agreed to in writing, software\n",
              "// distributed under the License is distributed on an \"AS IS\" BASIS,\n",
              "// WITHOUT WARRANTIES OR CONDITIONS OF ANY KIND, either express or implied.\n",
              "// See the License for the specific language governing permissions and\n",
              "// limitations under the License.\n",
              "\n",
              "/**\n",
              " * @fileoverview Helpers for google.colab Python module.\n",
              " */\n",
              "(function(scope) {\n",
              "function span(text, styleAttributes = {}) {\n",
              "  const element = document.createElement('span');\n",
              "  element.textContent = text;\n",
              "  for (const key of Object.keys(styleAttributes)) {\n",
              "    element.style[key] = styleAttributes[key];\n",
              "  }\n",
              "  return element;\n",
              "}\n",
              "\n",
              "// Max number of bytes which will be uploaded at a time.\n",
              "const MAX_PAYLOAD_SIZE = 100 * 1024;\n",
              "\n",
              "function _uploadFiles(inputId, outputId) {\n",
              "  const steps = uploadFilesStep(inputId, outputId);\n",
              "  const outputElement = document.getElementById(outputId);\n",
              "  // Cache steps on the outputElement to make it available for the next call\n",
              "  // to uploadFilesContinue from Python.\n",
              "  outputElement.steps = steps;\n",
              "\n",
              "  return _uploadFilesContinue(outputId);\n",
              "}\n",
              "\n",
              "// This is roughly an async generator (not supported in the browser yet),\n",
              "// where there are multiple asynchronous steps and the Python side is going\n",
              "// to poll for completion of each step.\n",
              "// This uses a Promise to block the python side on completion of each step,\n",
              "// then passes the result of the previous step as the input to the next step.\n",
              "function _uploadFilesContinue(outputId) {\n",
              "  const outputElement = document.getElementById(outputId);\n",
              "  const steps = outputElement.steps;\n",
              "\n",
              "  const next = steps.next(outputElement.lastPromiseValue);\n",
              "  return Promise.resolve(next.value.promise).then((value) => {\n",
              "    // Cache the last promise value to make it available to the next\n",
              "    // step of the generator.\n",
              "    outputElement.lastPromiseValue = value;\n",
              "    return next.value.response;\n",
              "  });\n",
              "}\n",
              "\n",
              "/**\n",
              " * Generator function which is called between each async step of the upload\n",
              " * process.\n",
              " * @param {string} inputId Element ID of the input file picker element.\n",
              " * @param {string} outputId Element ID of the output display.\n",
              " * @return {!Iterable<!Object>} Iterable of next steps.\n",
              " */\n",
              "function* uploadFilesStep(inputId, outputId) {\n",
              "  const inputElement = document.getElementById(inputId);\n",
              "  inputElement.disabled = false;\n",
              "\n",
              "  const outputElement = document.getElementById(outputId);\n",
              "  outputElement.innerHTML = '';\n",
              "\n",
              "  const pickedPromise = new Promise((resolve) => {\n",
              "    inputElement.addEventListener('change', (e) => {\n",
              "      resolve(e.target.files);\n",
              "    });\n",
              "  });\n",
              "\n",
              "  const cancel = document.createElement('button');\n",
              "  inputElement.parentElement.appendChild(cancel);\n",
              "  cancel.textContent = 'Cancel upload';\n",
              "  const cancelPromise = new Promise((resolve) => {\n",
              "    cancel.onclick = () => {\n",
              "      resolve(null);\n",
              "    };\n",
              "  });\n",
              "\n",
              "  // Wait for the user to pick the files.\n",
              "  const files = yield {\n",
              "    promise: Promise.race([pickedPromise, cancelPromise]),\n",
              "    response: {\n",
              "      action: 'starting',\n",
              "    }\n",
              "  };\n",
              "\n",
              "  cancel.remove();\n",
              "\n",
              "  // Disable the input element since further picks are not allowed.\n",
              "  inputElement.disabled = true;\n",
              "\n",
              "  if (!files) {\n",
              "    return {\n",
              "      response: {\n",
              "        action: 'complete',\n",
              "      }\n",
              "    };\n",
              "  }\n",
              "\n",
              "  for (const file of files) {\n",
              "    const li = document.createElement('li');\n",
              "    li.append(span(file.name, {fontWeight: 'bold'}));\n",
              "    li.append(span(\n",
              "        `(${file.type || 'n/a'}) - ${file.size} bytes, ` +\n",
              "        `last modified: ${\n",
              "            file.lastModifiedDate ? file.lastModifiedDate.toLocaleDateString() :\n",
              "                                    'n/a'} - `));\n",
              "    const percent = span('0% done');\n",
              "    li.appendChild(percent);\n",
              "\n",
              "    outputElement.appendChild(li);\n",
              "\n",
              "    const fileDataPromise = new Promise((resolve) => {\n",
              "      const reader = new FileReader();\n",
              "      reader.onload = (e) => {\n",
              "        resolve(e.target.result);\n",
              "      };\n",
              "      reader.readAsArrayBuffer(file);\n",
              "    });\n",
              "    // Wait for the data to be ready.\n",
              "    let fileData = yield {\n",
              "      promise: fileDataPromise,\n",
              "      response: {\n",
              "        action: 'continue',\n",
              "      }\n",
              "    };\n",
              "\n",
              "    // Use a chunked sending to avoid message size limits. See b/62115660.\n",
              "    let position = 0;\n",
              "    do {\n",
              "      const length = Math.min(fileData.byteLength - position, MAX_PAYLOAD_SIZE);\n",
              "      const chunk = new Uint8Array(fileData, position, length);\n",
              "      position += length;\n",
              "\n",
              "      const base64 = btoa(String.fromCharCode.apply(null, chunk));\n",
              "      yield {\n",
              "        response: {\n",
              "          action: 'append',\n",
              "          file: file.name,\n",
              "          data: base64,\n",
              "        },\n",
              "      };\n",
              "\n",
              "      let percentDone = fileData.byteLength === 0 ?\n",
              "          100 :\n",
              "          Math.round((position / fileData.byteLength) * 100);\n",
              "      percent.textContent = `${percentDone}% done`;\n",
              "\n",
              "    } while (position < fileData.byteLength);\n",
              "  }\n",
              "\n",
              "  // All done.\n",
              "  yield {\n",
              "    response: {\n",
              "      action: 'complete',\n",
              "    }\n",
              "  };\n",
              "}\n",
              "\n",
              "scope.google = scope.google || {};\n",
              "scope.google.colab = scope.google.colab || {};\n",
              "scope.google.colab._files = {\n",
              "  _uploadFiles,\n",
              "  _uploadFilesContinue,\n",
              "};\n",
              "})(self);\n",
              "</script> "
            ]
          },
          "metadata": {}
        },
        {
          "output_type": "stream",
          "name": "stdout",
          "text": [
            "Saving MODULO7_PROJETOFINAL_BASE_SUPERMERCADO - MODULO7_PROJETOFINAL_BASE_SUPERMERCADO (1).csv.csv to MODULO7_PROJETOFINAL_BASE_SUPERMERCADO - MODULO7_PROJETOFINAL_BASE_SUPERMERCADO (1).csv.csv\n"
          ]
        }
      ]
    },
    {
      "cell_type": "code",
      "metadata": {
        "colab": {
          "base_uri": "https://localhost:8080/",
          "height": 363
        },
        "id": "70bde3fe",
        "outputId": "8b1315f5-8eaf-43c2-8d08-bd5439277942"
      },
      "source": [
        "df = pd.read_csv(\"MODULO7_PROJETOFINAL_BASE_SUPERMERCADO - MODULO7_PROJETOFINAL_BASE_SUPERMERCADO (1).csv.csv\")\n",
        "\n",
        "display(df.head(10))"
      ],
      "execution_count": 4,
      "outputs": [
        {
          "output_type": "display_data",
          "data": {
            "text/plain": [
              "                                              title       Marca  Preco_Normal  \\\n",
              "0              Pack 12 un, Leche extra proteína 1 L  Loncoleche         19788   \n",
              "1   Pack 12 un, Leche chocolate receta original 1 L     Soprole         18228   \n",
              "2    Pack 12 un, Leche semidescremada chocolate 1 L     Soprole         18228   \n",
              "3     Pack 12 un, Leche semidescremada frutilla 1 L     Soprole         18228   \n",
              "4       Pack 12 un, Leche sin lactosa chocolate 1 L  Loncoleche         17988   \n",
              "5        Pack 12 un, Leche sin lactosa frutilla 1 L  Loncoleche         17988   \n",
              "6  Pack 12 un, Leche saborizada light chocolate 1 L  Loncoleche         17988   \n",
              "7         Pack 12 un, Leche saborizada frutilla 1 L       Colun         17388   \n",
              "8         Pack 12 un, Leche saborizada vainilla 1 L       Colun         17388   \n",
              "9           Pack 12 un, Leche saborizada manjar 1 L       Colun         17388   \n",
              "\n",
              "   Preco_Desconto  Preco_Anterior  Desconto Categoria  \n",
              "0               0               0         0   lacteos  \n",
              "1               0               0         0   lacteos  \n",
              "2               0               0         0   lacteos  \n",
              "3               0               0         0   lacteos  \n",
              "4               0               0         0   lacteos  \n",
              "5               0               0         0   lacteos  \n",
              "6               0               0         0   lacteos  \n",
              "7               0               0         0   lacteos  \n",
              "8               0               0         0   lacteos  \n",
              "9               0               0         0   lacteos  "
            ],
            "text/html": [
              "\n",
              "  <div id=\"df-8f448af8-e43c-4da0-b087-f455c4b4e004\" class=\"colab-df-container\">\n",
              "    <div>\n",
              "<style scoped>\n",
              "    .dataframe tbody tr th:only-of-type {\n",
              "        vertical-align: middle;\n",
              "    }\n",
              "\n",
              "    .dataframe tbody tr th {\n",
              "        vertical-align: top;\n",
              "    }\n",
              "\n",
              "    .dataframe thead th {\n",
              "        text-align: right;\n",
              "    }\n",
              "</style>\n",
              "<table border=\"1\" class=\"dataframe\">\n",
              "  <thead>\n",
              "    <tr style=\"text-align: right;\">\n",
              "      <th></th>\n",
              "      <th>title</th>\n",
              "      <th>Marca</th>\n",
              "      <th>Preco_Normal</th>\n",
              "      <th>Preco_Desconto</th>\n",
              "      <th>Preco_Anterior</th>\n",
              "      <th>Desconto</th>\n",
              "      <th>Categoria</th>\n",
              "    </tr>\n",
              "  </thead>\n",
              "  <tbody>\n",
              "    <tr>\n",
              "      <th>0</th>\n",
              "      <td>Pack 12 un, Leche extra proteína 1 L</td>\n",
              "      <td>Loncoleche</td>\n",
              "      <td>19788</td>\n",
              "      <td>0</td>\n",
              "      <td>0</td>\n",
              "      <td>0</td>\n",
              "      <td>lacteos</td>\n",
              "    </tr>\n",
              "    <tr>\n",
              "      <th>1</th>\n",
              "      <td>Pack 12 un, Leche chocolate receta original 1 L</td>\n",
              "      <td>Soprole</td>\n",
              "      <td>18228</td>\n",
              "      <td>0</td>\n",
              "      <td>0</td>\n",
              "      <td>0</td>\n",
              "      <td>lacteos</td>\n",
              "    </tr>\n",
              "    <tr>\n",
              "      <th>2</th>\n",
              "      <td>Pack 12 un, Leche semidescremada chocolate 1 L</td>\n",
              "      <td>Soprole</td>\n",
              "      <td>18228</td>\n",
              "      <td>0</td>\n",
              "      <td>0</td>\n",
              "      <td>0</td>\n",
              "      <td>lacteos</td>\n",
              "    </tr>\n",
              "    <tr>\n",
              "      <th>3</th>\n",
              "      <td>Pack 12 un, Leche semidescremada frutilla 1 L</td>\n",
              "      <td>Soprole</td>\n",
              "      <td>18228</td>\n",
              "      <td>0</td>\n",
              "      <td>0</td>\n",
              "      <td>0</td>\n",
              "      <td>lacteos</td>\n",
              "    </tr>\n",
              "    <tr>\n",
              "      <th>4</th>\n",
              "      <td>Pack 12 un, Leche sin lactosa chocolate 1 L</td>\n",
              "      <td>Loncoleche</td>\n",
              "      <td>17988</td>\n",
              "      <td>0</td>\n",
              "      <td>0</td>\n",
              "      <td>0</td>\n",
              "      <td>lacteos</td>\n",
              "    </tr>\n",
              "    <tr>\n",
              "      <th>5</th>\n",
              "      <td>Pack 12 un, Leche sin lactosa frutilla 1 L</td>\n",
              "      <td>Loncoleche</td>\n",
              "      <td>17988</td>\n",
              "      <td>0</td>\n",
              "      <td>0</td>\n",
              "      <td>0</td>\n",
              "      <td>lacteos</td>\n",
              "    </tr>\n",
              "    <tr>\n",
              "      <th>6</th>\n",
              "      <td>Pack 12 un, Leche saborizada light chocolate 1 L</td>\n",
              "      <td>Loncoleche</td>\n",
              "      <td>17988</td>\n",
              "      <td>0</td>\n",
              "      <td>0</td>\n",
              "      <td>0</td>\n",
              "      <td>lacteos</td>\n",
              "    </tr>\n",
              "    <tr>\n",
              "      <th>7</th>\n",
              "      <td>Pack 12 un, Leche saborizada frutilla 1 L</td>\n",
              "      <td>Colun</td>\n",
              "      <td>17388</td>\n",
              "      <td>0</td>\n",
              "      <td>0</td>\n",
              "      <td>0</td>\n",
              "      <td>lacteos</td>\n",
              "    </tr>\n",
              "    <tr>\n",
              "      <th>8</th>\n",
              "      <td>Pack 12 un, Leche saborizada vainilla 1 L</td>\n",
              "      <td>Colun</td>\n",
              "      <td>17388</td>\n",
              "      <td>0</td>\n",
              "      <td>0</td>\n",
              "      <td>0</td>\n",
              "      <td>lacteos</td>\n",
              "    </tr>\n",
              "    <tr>\n",
              "      <th>9</th>\n",
              "      <td>Pack 12 un, Leche saborizada manjar 1 L</td>\n",
              "      <td>Colun</td>\n",
              "      <td>17388</td>\n",
              "      <td>0</td>\n",
              "      <td>0</td>\n",
              "      <td>0</td>\n",
              "      <td>lacteos</td>\n",
              "    </tr>\n",
              "  </tbody>\n",
              "</table>\n",
              "</div>\n",
              "    <div class=\"colab-df-buttons\">\n",
              "\n",
              "  <div class=\"colab-df-container\">\n",
              "    <button class=\"colab-df-convert\" onclick=\"convertToInteractive('df-8f448af8-e43c-4da0-b087-f455c4b4e004')\"\n",
              "            title=\"Convert this dataframe to an interactive table.\"\n",
              "            style=\"display:none;\">\n",
              "\n",
              "  <svg xmlns=\"http://www.w3.org/2000/svg\" height=\"24px\" viewBox=\"0 -960 960 960\">\n",
              "    <path d=\"M120-120v-720h720v720H120Zm60-500h600v-160H180v160Zm220 220h160v-160H400v160Zm0 220h160v-160H400v160ZM180-400h160v-160H180v160Zm440 0h160v-160H620v160ZM180-180h160v-160H180v160Zm440 0h160v-160H620v160Z\"/>\n",
              "  </svg>\n",
              "    </button>\n",
              "\n",
              "  <style>\n",
              "    .colab-df-container {\n",
              "      display:flex;\n",
              "      gap: 12px;\n",
              "    }\n",
              "\n",
              "    .colab-df-convert {\n",
              "      background-color: #E8F0FE;\n",
              "      border: none;\n",
              "      border-radius: 50%;\n",
              "      cursor: pointer;\n",
              "      display: none;\n",
              "      fill: #1967D2;\n",
              "      height: 32px;\n",
              "      padding: 0 0 0 0;\n",
              "      width: 32px;\n",
              "    }\n",
              "\n",
              "    .colab-df-convert:hover {\n",
              "      background-color: #E2EBFA;\n",
              "      box-shadow: 0px 1px 2px rgba(60, 64, 67, 0.3), 0px 1px 3px 1px rgba(60, 64, 67, 0.15);\n",
              "      fill: #174EA6;\n",
              "    }\n",
              "\n",
              "    .colab-df-buttons div {\n",
              "      margin-bottom: 4px;\n",
              "    }\n",
              "\n",
              "    [theme=dark] .colab-df-convert {\n",
              "      background-color: #3B4455;\n",
              "      fill: #D2E3FC;\n",
              "    }\n",
              "\n",
              "    [theme=dark] .colab-df-convert:hover {\n",
              "      background-color: #434B5C;\n",
              "      box-shadow: 0px 1px 3px 1px rgba(0, 0, 0, 0.15);\n",
              "      filter: drop-shadow(0px 1px 2px rgba(0, 0, 0, 0.3));\n",
              "      fill: #FFFFFF;\n",
              "    }\n",
              "  </style>\n",
              "\n",
              "    <script>\n",
              "      const buttonEl =\n",
              "        document.querySelector('#df-8f448af8-e43c-4da0-b087-f455c4b4e004 button.colab-df-convert');\n",
              "      buttonEl.style.display =\n",
              "        google.colab.kernel.accessAllowed ? 'block' : 'none';\n",
              "\n",
              "      async function convertToInteractive(key) {\n",
              "        const element = document.querySelector('#df-8f448af8-e43c-4da0-b087-f455c4b4e004');\n",
              "        const dataTable =\n",
              "          await google.colab.kernel.invokeFunction('convertToInteractive',\n",
              "                                                    [key], {});\n",
              "        if (!dataTable) return;\n",
              "\n",
              "        const docLinkHtml = 'Like what you see? Visit the ' +\n",
              "          '<a target=\"_blank\" href=https://colab.research.google.com/notebooks/data_table.ipynb>data table notebook</a>'\n",
              "          + ' to learn more about interactive tables.';\n",
              "        element.innerHTML = '';\n",
              "        dataTable['output_type'] = 'display_data';\n",
              "        await google.colab.output.renderOutput(dataTable, element);\n",
              "        const docLink = document.createElement('div');\n",
              "        docLink.innerHTML = docLinkHtml;\n",
              "        element.appendChild(docLink);\n",
              "      }\n",
              "    </script>\n",
              "  </div>\n",
              "\n",
              "\n",
              "    <div id=\"df-a7ba7ba4-8f0b-4d3d-a958-5cee1a498ca4\">\n",
              "      <button class=\"colab-df-quickchart\" onclick=\"quickchart('df-a7ba7ba4-8f0b-4d3d-a958-5cee1a498ca4')\"\n",
              "                title=\"Suggest charts\"\n",
              "                style=\"display:none;\">\n",
              "\n",
              "<svg xmlns=\"http://www.w3.org/2000/svg\" height=\"24px\"viewBox=\"0 0 24 24\"\n",
              "     width=\"24px\">\n",
              "    <g>\n",
              "        <path d=\"M19 3H5c-1.1 0-2 .9-2 2v14c0 1.1.9 2 2 2h14c1.1 0 2-.9 2-2V5c0-1.1-.9-2-2-2zM9 17H7v-7h2v7zm4 0h-2V7h2v10zm4 0h-2v-4h2v4z\"/>\n",
              "    </g>\n",
              "</svg>\n",
              "      </button>\n",
              "\n",
              "<style>\n",
              "  .colab-df-quickchart {\n",
              "      --bg-color: #E8F0FE;\n",
              "      --fill-color: #1967D2;\n",
              "      --hover-bg-color: #E2EBFA;\n",
              "      --hover-fill-color: #174EA6;\n",
              "      --disabled-fill-color: #AAA;\n",
              "      --disabled-bg-color: #DDD;\n",
              "  }\n",
              "\n",
              "  [theme=dark] .colab-df-quickchart {\n",
              "      --bg-color: #3B4455;\n",
              "      --fill-color: #D2E3FC;\n",
              "      --hover-bg-color: #434B5C;\n",
              "      --hover-fill-color: #FFFFFF;\n",
              "      --disabled-bg-color: #3B4455;\n",
              "      --disabled-fill-color: #666;\n",
              "  }\n",
              "\n",
              "  .colab-df-quickchart {\n",
              "    background-color: var(--bg-color);\n",
              "    border: none;\n",
              "    border-radius: 50%;\n",
              "    cursor: pointer;\n",
              "    display: none;\n",
              "    fill: var(--fill-color);\n",
              "    height: 32px;\n",
              "    padding: 0;\n",
              "    width: 32px;\n",
              "  }\n",
              "\n",
              "  .colab-df-quickchart:hover {\n",
              "    background-color: var(--hover-bg-color);\n",
              "    box-shadow: 0 1px 2px rgba(60, 64, 67, 0.3), 0 1px 3px 1px rgba(60, 64, 67, 0.15);\n",
              "    fill: var(--button-hover-fill-color);\n",
              "  }\n",
              "\n",
              "  .colab-df-quickchart-complete:disabled,\n",
              "  .colab-df-quickchart-complete:disabled:hover {\n",
              "    background-color: var(--disabled-bg-color);\n",
              "    fill: var(--disabled-fill-color);\n",
              "    box-shadow: none;\n",
              "  }\n",
              "\n",
              "  .colab-df-spinner {\n",
              "    border: 2px solid var(--fill-color);\n",
              "    border-color: transparent;\n",
              "    border-bottom-color: var(--fill-color);\n",
              "    animation:\n",
              "      spin 1s steps(1) infinite;\n",
              "  }\n",
              "\n",
              "  @keyframes spin {\n",
              "    0% {\n",
              "      border-color: transparent;\n",
              "      border-bottom-color: var(--fill-color);\n",
              "      border-left-color: var(--fill-color);\n",
              "    }\n",
              "    20% {\n",
              "      border-color: transparent;\n",
              "      border-left-color: var(--fill-color);\n",
              "      border-top-color: var(--fill-color);\n",
              "    }\n",
              "    30% {\n",
              "      border-color: transparent;\n",
              "      border-left-color: var(--fill-color);\n",
              "      border-top-color: var(--fill-color);\n",
              "      border-right-color: var(--fill-color);\n",
              "    }\n",
              "    40% {\n",
              "      border-color: transparent;\n",
              "      border-right-color: var(--fill-color);\n",
              "      border-top-color: var(--fill-color);\n",
              "    }\n",
              "    60% {\n",
              "      border-color: transparent;\n",
              "      border-right-color: var(--fill-color);\n",
              "    }\n",
              "    80% {\n",
              "      border-color: transparent;\n",
              "      border-right-color: var(--fill-color);\n",
              "      border-bottom-color: var(--fill-color);\n",
              "    }\n",
              "    90% {\n",
              "      border-color: transparent;\n",
              "      border-bottom-color: var(--fill-color);\n",
              "    }\n",
              "  }\n",
              "</style>\n",
              "\n",
              "      <script>\n",
              "        async function quickchart(key) {\n",
              "          const quickchartButtonEl =\n",
              "            document.querySelector('#' + key + ' button');\n",
              "          quickchartButtonEl.disabled = true;  // To prevent multiple clicks.\n",
              "          quickchartButtonEl.classList.add('colab-df-spinner');\n",
              "          try {\n",
              "            const charts = await google.colab.kernel.invokeFunction(\n",
              "                'suggestCharts', [key], {});\n",
              "          } catch (error) {\n",
              "            console.error('Error during call to suggestCharts:', error);\n",
              "          }\n",
              "          quickchartButtonEl.classList.remove('colab-df-spinner');\n",
              "          quickchartButtonEl.classList.add('colab-df-quickchart-complete');\n",
              "        }\n",
              "        (() => {\n",
              "          let quickchartButtonEl =\n",
              "            document.querySelector('#df-a7ba7ba4-8f0b-4d3d-a958-5cee1a498ca4 button');\n",
              "          quickchartButtonEl.style.display =\n",
              "            google.colab.kernel.accessAllowed ? 'block' : 'none';\n",
              "        })();\n",
              "      </script>\n",
              "    </div>\n",
              "\n",
              "    </div>\n",
              "  </div>\n"
            ],
            "application/vnd.google.colaboratory.intrinsic+json": {
              "type": "dataframe",
              "summary": "{\n  \"name\": \"display(df\",\n  \"rows\": 10,\n  \"fields\": [\n    {\n      \"column\": \"title\",\n      \"properties\": {\n        \"dtype\": \"string\",\n        \"num_unique_values\": 10,\n        \"samples\": [\n          \"Pack 12 un, Leche saborizada vainilla 1 L\",\n          \"Pack 12 un, Leche chocolate receta original 1 L\",\n          \"Pack 12 un, Leche sin lactosa frutilla 1 L\"\n        ],\n        \"semantic_type\": \"\",\n        \"description\": \"\"\n      }\n    },\n    {\n      \"column\": \"Marca\",\n      \"properties\": {\n        \"dtype\": \"category\",\n        \"num_unique_values\": 3,\n        \"samples\": [\n          \"Loncoleche\",\n          \"Soprole\",\n          \"Colun\"\n        ],\n        \"semantic_type\": \"\",\n        \"description\": \"\"\n      }\n    },\n    {\n      \"column\": \"Preco_Normal\",\n      \"properties\": {\n        \"dtype\": \"number\",\n        \"std\": 702,\n        \"min\": 17388,\n        \"max\": 19788,\n        \"num_unique_values\": 4,\n        \"samples\": [\n          18228,\n          17388,\n          19788\n        ],\n        \"semantic_type\": \"\",\n        \"description\": \"\"\n      }\n    },\n    {\n      \"column\": \"Preco_Desconto\",\n      \"properties\": {\n        \"dtype\": \"number\",\n        \"std\": 0,\n        \"min\": 0,\n        \"max\": 0,\n        \"num_unique_values\": 1,\n        \"samples\": [\n          0\n        ],\n        \"semantic_type\": \"\",\n        \"description\": \"\"\n      }\n    },\n    {\n      \"column\": \"Preco_Anterior\",\n      \"properties\": {\n        \"dtype\": \"number\",\n        \"std\": 0,\n        \"min\": 0,\n        \"max\": 0,\n        \"num_unique_values\": 1,\n        \"samples\": [\n          0\n        ],\n        \"semantic_type\": \"\",\n        \"description\": \"\"\n      }\n    },\n    {\n      \"column\": \"Desconto\",\n      \"properties\": {\n        \"dtype\": \"number\",\n        \"std\": 0,\n        \"min\": 0,\n        \"max\": 0,\n        \"num_unique_values\": 1,\n        \"samples\": [\n          0\n        ],\n        \"semantic_type\": \"\",\n        \"description\": \"\"\n      }\n    },\n    {\n      \"column\": \"Categoria\",\n      \"properties\": {\n        \"dtype\": \"category\",\n        \"num_unique_values\": 1,\n        \"samples\": [\n          \"lacteos\"\n        ],\n        \"semantic_type\": \"\",\n        \"description\": \"\"\n      }\n    }\n  ]\n}"
            }
          },
          "metadata": {}
        }
      ]
    },
    {
      "cell_type": "markdown",
      "source": [
        "Os campos do nosso dataframe são:\n",
        "\n",
        "**Title:** Nome do produto.\n",
        "\n",
        "\n",
        "**Marca:** A marca do produto.\n",
        "\n",
        "\n",
        "**Preco_Normal:** O preço em que o produto costuma ser vendido quando não há desconto.\n",
        "\n",
        "\n",
        "**Preco_Desconto:** O preço vendido após o desconto ser aplicado.\n",
        "\n",
        "\n",
        "**Preco_Anterior:** Preço em que era comercializado o produto antes do desconto aplicado.\n",
        "\n",
        "\n",
        "**Desconto:** Total de desconto aplicado.\n",
        "\n",
        "\n",
        "\n",
        "\n",
        "\n",
        "\n",
        "As colunas que aparecem com valores 0 são para os produtos onde não tivemos descontos aplicados.\n",
        "\n",
        "\n",
        "As categorias estão em espanhol!"
      ],
      "metadata": {
        "id": "YJgKJ7Nxwtw2"
      }
    },
    {
      "cell_type": "markdown",
      "source": [
        "# 1 - Traga a média e a mediana dos preços - coluna Preco_Normal - por categoria de produto.\n",
        "# Identifique as categorias que parecem ter um valor de média abaixo ou acima da mediana."
      ],
      "metadata": {
        "id": "4u6WBeyyy6ri"
      }
    },
    {
      "cell_type": "code",
      "source": [
        "#Seu código aqui para a média\n",
        "preco_normal_media = df.groupby('Categoria')['Preco_Normal'].mean().reset_index()\n",
        "print(preco_normal_media)"
      ],
      "metadata": {
        "id": "E7B7FolOzVcJ",
        "colab": {
          "base_uri": "https://localhost:8080/"
        },
        "outputId": "e36cafd1-55df-49ce-9baa-1e345fc228fc"
      },
      "execution_count": 5,
      "outputs": [
        {
          "output_type": "stream",
          "name": "stdout",
          "text": [
            "                    Categoria  Preco_Normal\n",
            "0  belleza-y-cuidado-personal   1783.556485\n",
            "1          comidas-preparadas   3095.043478\n",
            "2                  congelados   2108.042553\n",
            "3                      frutas   1724.473684\n",
            "4        instantaneos-y-sopas    765.491228\n",
            "5                     lacteos   2385.219239\n",
            "6                    verduras   1343.296875\n"
          ]
        }
      ]
    },
    {
      "cell_type": "code",
      "source": [
        "#Seu código aqui para a mediana\n",
        "preco_normal_mediana = df.groupby('Categoria')['Preco_Normal'].median().reset_index()\n",
        "print(preco_normal_mediana)"
      ],
      "metadata": {
        "id": "Rwf4V3hnzZwh",
        "colab": {
          "base_uri": "https://localhost:8080/"
        },
        "outputId": "e5633225-2fbe-4cd3-aae1-ed7200b5c267"
      },
      "execution_count": 6,
      "outputs": [
        {
          "output_type": "stream",
          "name": "stdout",
          "text": [
            "                    Categoria  Preco_Normal\n",
            "0  belleza-y-cuidado-personal        1569.0\n",
            "1          comidas-preparadas        3290.0\n",
            "2                  congelados        1519.0\n",
            "3                      frutas        1195.0\n",
            "4        instantaneos-y-sopas         439.0\n",
            "5                     lacteos         989.0\n",
            "6                    verduras        1180.0\n"
          ]
        }
      ]
    },
    {
      "cell_type": "markdown",
      "source": [
        "Digite aqui as categorias:\n",
        "- Valores de media acima da mediana: belleza-y-cuidado-personal, congelados, frutas, instantaneos-y-sopas, lacteos e verduras.\n",
        "- Valores de media abaixo da mediana: comidas-preparadas."
      ],
      "metadata": {
        "id": "nKBFOh-mzyWX"
      }
    },
    {
      "cell_type": "markdown",
      "source": [
        "# 2 - Traga o desvio padrão por categoria de produto.\n",
        "# Qual o comportamento da média e mediana nas categorias com maior desvio?"
      ],
      "metadata": {
        "id": "jdHZurzDzca0"
      }
    },
    {
      "cell_type": "code",
      "source": [
        "#Seu código aqui\n",
        "categoria_desvio = df.groupby('Categoria')['Preco_Normal'].std().reset_index()\n",
        "print(categoria_desvio)"
      ],
      "metadata": {
        "id": "xEXT1gtoz135",
        "colab": {
          "base_uri": "https://localhost:8080/"
        },
        "outputId": "09c1ac72-7359-4cc9-82ff-e19d3794f8ee"
      },
      "execution_count": 7,
      "outputs": [
        {
          "output_type": "stream",
          "name": "stdout",
          "text": [
            "                    Categoria  Preco_Normal\n",
            "0  belleza-y-cuidado-personal   2210.041719\n",
            "1          comidas-preparadas   2019.911428\n",
            "2                  congelados   2111.539896\n",
            "3                      frutas   1639.151114\n",
            "4        instantaneos-y-sopas   1170.232869\n",
            "5                     lacteos   3925.816164\n",
            "6                    verduras   1012.699625\n"
          ]
        }
      ]
    },
    {
      "cell_type": "markdown",
      "source": [
        "Digite nesse campo o comportamento que você identificou.\n",
        "- As categorias com maior desvio padrão são: lacteos, belleza-y-cuidado-personal e congelados.\n",
        "- Nessas categorias, a média tende a ser mais alta que a mediana, indicando a presença de outliers (valores extremos) — produtos com preços muito acima dos demais que puxam a média para cima. Isso é típico de categorias com grande variedade de produtos, como cosméticos e laticínios, onde há tanto itens baratos quanto produtos premium de alto valor."
      ],
      "metadata": {
        "id": "HzsLO4nOz3yJ"
      }
    },
    {
      "cell_type": "markdown",
      "source": [
        "# 3 - Plot um boxplot da distribuição do Preco_Normal para a categoria que você identificou que tem o maior desvio padrão. Como é a distribuição desses dados segundo o boxplot? Você identifica muitos outliers?"
      ],
      "metadata": {
        "id": "4aW51rCHBr2w"
      }
    },
    {
      "cell_type": "markdown",
      "source": [
        "Dica: Para trazer apenas os dados da categoria que você deseja você pode usar o df.loc[df['Categoria'] == 'CATEGORIA ESCOLHIDA'"
      ],
      "metadata": {
        "id": "kwPKkUZnEUSb"
      }
    },
    {
      "cell_type": "code",
      "source": [
        "#Seu código aqui\n",
        "plt.figure(figsize=(10, 6))\n",
        "plt.boxplot(df.loc[df['Categoria'] == 'lacteos']['Preco_Normal'])\n",
        "plt.title('Distribuição do preço normal da categoria de lacteos', fontsize=12)\n",
        "plt.ylabel('Preço Normal (R$)', fontsize=12)\n",
        "plt.grid(True, linestyle='--', alpha=0.5)\n",
        "plt.show()"
      ],
      "metadata": {
        "id": "_02thblTCKEF",
        "colab": {
          "base_uri": "https://localhost:8080/",
          "height": 545
        },
        "outputId": "d86af6b9-ac5b-453c-bb9b-9bc154a2f4e3"
      },
      "execution_count": 8,
      "outputs": [
        {
          "output_type": "display_data",
          "data": {
            "text/plain": [
              "<Figure size 1000x600 with 1 Axes>"
            ],
            "image/png": "[encoded data removed]"
          },
          "metadata": {}
        }
      ]
    },
    {
      "cell_type": "markdown",
      "source": [
        "# 4 - Plote um gráfico de barras onde temos a média de descontos por categoria."
      ],
      "metadata": {
        "id": "w5xgQBC_0Hg-"
      }
    },
    {
      "cell_type": "code",
      "source": [
        "#Seu código aqui\n",
        "plt.figure(figsize=(10, 6))\n",
        "plt.bar(df['Categoria'], df['Desconto'])\n",
        "plt.title('Média de desconto por categorias', fontsize=12)\n",
        "plt.xlabel('Categorias', fontsize=12)\n",
        "plt.ylabel('Média de Desconto (R$)', fontsize=12)\n",
        "plt.xticks(rotation=90)\n",
        "plt.show()"
      ],
      "metadata": {
        "id": "DBj5zAdI0QfI",
        "colab": {
          "base_uri": "https://localhost:8080/",
          "height": 742
        },
        "outputId": "4f2bb0a4-a64f-46ab-a808-16e214ecea7f"
      },
      "execution_count": 9,
      "outputs": [
        {
          "output_type": "display_data",
          "data": {
            "text/plain": [
              "<Figure size 1000x600 with 1 Axes>"
            ],
            "image/png": "[encoded data removed]"
          },
          "metadata": {}
        }
      ]
    },
    {
      "cell_type": "markdown",
      "source": [
        "# 5 - Plote um gráfico de mapa interativo agrupando os dados por categoria, marca e trazendo a média de desconto."
      ],
      "metadata": {
        "id": "vqlx0w7E07uC"
      }
    },
    {
      "cell_type": "code",
      "source": [
        "#Seu código aqui\n",
        "df_grupo_filtrado = df[df['Desconto'] > 0]\n",
        "df_media = df_grupo_filtrado.groupby(['Categoria', 'Marca'])['Desconto'].agg(\n",
        "    Média='mean',\n",
        "    Desvio_padrão='std',\n",
        "    Contagem='count'\n",
        ").reset_index()\n",
        "fig = px.treemap(df_media, path=['Categoria', 'Marca'],\n",
        "                 values='Média',\n",
        "                 color='Média',\n",
        "                 color_continuous_scale='Viridis',\n",
        "                 title= 'Media de desconto por categoria e marca (Excluindo grupos sem descontos)',\n",
        "                 hover_data={\n",
        "                     'Média': ':.2f',\n",
        "                     'Desvio_padrão': ':.2f',\n",
        "                     'Contagem': True\n",
        "                     }\n",
        "                 )\n",
        "fig.show()"
      ],
      "metadata": {
        "colab": {
          "base_uri": "https://localhost:8080/",
          "height": 542
        },
        "id": "U-qVk4K-O3DN",
        "outputId": "b0dafd3c-39bc-4e17-8166-a31b173e0aa3"
      },
      "execution_count": 22,
      "outputs": [
        {
          "output_type": "display_data",
          "data": {
            "text/html": [
              "<html>\n",
              "<head><meta charset=\"utf-8\" /></head>\n",
              "<body>\n",
              "    <div>            <script src=\"https://cdnjs.cloudflare.com/ajax/libs/mathjax/2.7.5/MathJax.js?config=TeX-AMS-MML_SVG\"></script><script type=\"text/javascript\">if (window.MathJax && window.MathJax.Hub && window.MathJax.Hub.Config) {window.MathJax.Hub.Config({SVG: {font: \"STIX-Web\"}});}</script>                <script type=\"text/javascript\">window.PlotlyConfig = {MathJaxConfig: 'local'};</script>\n",
              "        <script charset=\"utf-8\" src=\"https://cdn.plot.ly/plotly-2.35.2.min.js\"></script>                <div id=\"697c0ab7-02ce-43a8-98cf-bd4395987611\" class=\"plotly-graph-div\" style=\"height:525px; width:100%;\"></div>            <script type=\"text/javascript\">                                    window.PLOTLYENV=window.PLOTLYENV || {};                                    if (document.getElementById(\"697c0ab7-02ce-43a8-98cf-bd4395987611\")) {                    Plotly.newPlot(                        \"697c0ab7-02ce-43a8-98cf-bd4395987611\",                        [{\"branchvalues\":\"total\",\"customdata\":[[495.0,null,1],[667.0,43.840620433565945,2],[590.0,null,1],[409.0,null,1],[650.0,0.0,4],[752.125,287.9863278004704,8],[715.0,null,1],[491.8,266.9011052805889,5],[389.0,null,1],[576.8888888888889,275.7718461176034,9],[359.0,null,1],[921.1428571428571,236.2671006660531,7],[1009.0,null,1],[340.6666666666667,36.00925806881706,6],[331.0,null,1],[569.0,null,1],[955.0,132.79056191361394,4],[657.0,null,1],[130.0,0.0,3],[76.0,null,1],[4349.0,null,1],[569.0,156.97770542341354,2],[210.0,null,1],[160.0,null,1],[797.0,null,1],[797.0,null,1],[500.0,0.0,4],[799.0,77.45966692414834,6],[516.5,463.1549416771886,2],[609.0,null,1],[660.0,null,1],[795.0,0.0,2],[660.0,null,1],[795.0,null,1],[657.0,null,1],[140.0,null,1],[299.0,null,1],[695.0952380952381,97.32672025805893,21],[300.0,null,1],[369.0,17.320508075688775,3],[120.0,null,1],[522.0,5.656854249492381,2],[546.0,0.0,3],[689.8545901885708,\"(?)\",\"(?)\"],[500.0,0.0,4],[643.1889423546613,\"(?)\",\"(?)\"],[3023.673923041545,\"(?)\",\"(?)\"]],\"domain\":{\"x\":[0.0,1.0],\"y\":[0.0,1.0]},\"hovertemplate\":\"labels=%{label}\\u003cbr\\u003eMédia_sum=%{value}\\u003cbr\\u003eparent=%{parent}\\u003cbr\\u003eid=%{id}\\u003cbr\\u003eMédia=%{color:.2f}\\u003cbr\\u003eDesvio_padrão=%{customdata[1]:.2f}\\u003cbr\\u003eContagem=%{customdata[2]}\\u003cextra\\u003e\\u003c\\u002fextra\\u003e\",\"ids\":[\"belleza-y-cuidado-personal\\u002fAlways\",\"belleza-y-cuidado-personal\\u002fAquafresh\",\"belleza-y-cuidado-personal\\u002fAxe\",\"belleza-y-cuidado-personal\\u002fBallerina\",\"belleza-y-cuidado-personal\\u002fBiO\",\"congelados\\u002fBresler\",\"congelados\\u002fCarte Dor\",\"belleza-y-cuidado-personal\\u002fColgate\",\"lacteos\\u002fColun\",\"congelados\\u002fCuisine & Co\",\"lacteos\\u002fCuisine & Co\",\"belleza-y-cuidado-personal\\u002fDove\",\"belleza-y-cuidado-personal\\u002fDove Men\",\"congelados\\u002fFrutos Del Maipo\",\"belleza-y-cuidado-personal\\u002fKotex\",\"belleza-y-cuidado-personal\\u002fLadysoft\",\"congelados\\u002fMagnum\",\"congelados\\u002fMega\",\"congelados\\u002fMinuto Verde\",\"lacteos\\u002fNestlé\",\"lacteos\\u002fNido\",\"belleza-y-cuidado-personal\\u002fNosotras\",\"congelados\\u002fNot Burger\",\"lacteos\\u002fNot Milk\",\"belleza-y-cuidado-personal\\u002fOral Fresh\",\"belleza-y-cuidado-personal\\u002fOral-B\",\"comidas-preparadas\\u002fPF\",\"belleza-y-cuidado-personal\\u002fPantene\",\"belleza-y-cuidado-personal\\u002fPepsodent\",\"belleza-y-cuidado-personal\\u002fProtex\",\"belleza-y-cuidado-personal\\u002fRexona\",\"belleza-y-cuidado-personal\\u002fRexona Clinical\",\"belleza-y-cuidado-personal\\u002fRexona Men\",\"belleza-y-cuidado-personal\\u002fRexona Men Clinical\",\"congelados\\u002fSahne Nuss\",\"congelados\\u002fSan Jorge\",\"lacteos\\u002fSanta Marta\",\"congelados\\u002fSavory\",\"belleza-y-cuidado-personal\\u002fSimonds\",\"lacteos\\u002fSoprole\",\"congelados\\u002fSuper Beef\",\"lacteos\\u002fSureña\",\"congelados\\u002fViennetta Bresler\",\"belleza-y-cuidado-personal\",\"comidas-preparadas\",\"congelados\",\"lacteos\"],\"labels\":[\"Always\",\"Aquafresh\",\"Axe\",\"Ballerina\",\"BiO\",\"Bresler\",\"Carte Dor\",\"Colgate\",\"Colun\",\"Cuisine & Co\",\"Cuisine & Co\",\"Dove\",\"Dove Men\",\"Frutos Del Maipo\",\"Kotex\",\"Ladysoft\",\"Magnum\",\"Mega\",\"Minuto Verde\",\"Nestlé\",\"Nido\",\"Nosotras\",\"Not Burger\",\"Not Milk\",\"Oral Fresh\",\"Oral-B\",\"PF\",\"Pantene\",\"Pepsodent\",\"Protex\",\"Rexona\",\"Rexona Clinical\",\"Rexona Men\",\"Rexona Men Clinical\",\"Sahne Nuss\",\"San Jorge\",\"Santa Marta\",\"Savory\",\"Simonds\",\"Soprole\",\"Super Beef\",\"Sureña\",\"Viennetta Bresler\",\"belleza-y-cuidado-personal\",\"comidas-preparadas\",\"congelados\",\"lacteos\"],\"marker\":{\"coloraxis\":\"coloraxis\",\"colors\":[495.0,667.0,590.0,409.0,650.0,752.125,715.0,491.8,389.0,576.8888888888889,359.0,921.1428571428571,1009.0,340.6666666666667,331.0,569.0,955.0,657.0,130.0,76.0,4349.0,569.0,210.0,160.0,797.0,797.0,500.0,799.0,516.5,609.0,660.0,795.0,660.0,795.0,657.0,140.0,299.0,695.0952380952381,300.0,369.0,120.0,522.0,546.0,689.8545901885708,500.0,643.1889423546613,3023.673923041545]},\"name\":\"\",\"parents\":[\"belleza-y-cuidado-personal\",\"belleza-y-cuidado-personal\",\"belleza-y-cuidado-personal\",\"belleza-y-cuidado-personal\",\"belleza-y-cuidado-personal\",\"congelados\",\"congelados\",\"belleza-y-cuidado-personal\",\"lacteos\",\"congelados\",\"lacteos\",\"belleza-y-cuidado-personal\",\"belleza-y-cuidado-personal\",\"congelados\",\"belleza-y-cuidado-personal\",\"belleza-y-cuidado-personal\",\"congelados\",\"congelados\",\"congelados\",\"lacteos\",\"lacteos\",\"belleza-y-cuidado-personal\",\"congelados\",\"lacteos\",\"belleza-y-cuidado-personal\",\"belleza-y-cuidado-personal\",\"comidas-preparadas\",\"belleza-y-cuidado-personal\",\"belleza-y-cuidado-personal\",\"belleza-y-cuidado-personal\",\"belleza-y-cuidado-personal\",\"belleza-y-cuidado-personal\",\"belleza-y-cuidado-personal\",\"belleza-y-cuidado-personal\",\"congelados\",\"congelados\",\"lacteos\",\"congelados\",\"belleza-y-cuidado-personal\",\"lacteos\",\"congelados\",\"lacteos\",\"congelados\",\"\",\"\",\"\",\"\"],\"values\":[495.0,667.0,590.0,409.0,650.0,752.125,715.0,491.8,389.0,576.8888888888889,359.0,921.1428571428571,1009.0,340.6666666666667,331.0,569.0,955.0,657.0,130.0,76.0,4349.0,569.0,210.0,160.0,797.0,797.0,500.0,799.0,516.5,609.0,660.0,795.0,660.0,795.0,657.0,140.0,299.0,695.0952380952381,300.0,369.0,120.0,522.0,546.0,13430.442857142858,500.0,6494.775793650793,6523.0],\"type\":\"treemap\"}],                        {\"template\":{\"data\":{\"histogram2dcontour\":[{\"type\":\"histogram2dcontour\",\"colorbar\":{\"outlinewidth\":0,\"ticks\":\"\"},\"colorscale\":[[0.0,\"#0d0887\"],[0.1111111111111111,\"#46039f\"],[0.2222222222222222,\"#7201a8\"],[0.3333333333333333,\"#9c179e\"],[0.4444444444444444,\"#bd3786\"],[0.5555555555555556,\"#d8576b\"],[0.6666666666666666,\"#ed7953\"],[0.7777777777777778,\"#fb9f3a\"],[0.8888888888888888,\"#fdca26\"],[1.0,\"#f0f921\"]]}],\"choropleth\":[{\"type\":\"choropleth\",\"colorbar\":{\"outlinewidth\":0,\"ticks\":\"\"}}],\"histogram2d\":[{\"type\":\"histogram2d\",\"colorbar\":{\"outlinewidth\":0,\"ticks\":\"\"},\"colorscale\":[[0.0,\"#0d0887\"],[0.1111111111111111,\"#46039f\"],[0.2222222222222222,\"#7201a8\"],[0.3333333333333333,\"#9c179e\"],[0.4444444444444444,\"#bd3786\"],[0.5555555555555556,\"#d8576b\"],[0.6666666666666666,\"#ed7953\"],[0.7777777777777778,\"#fb9f3a\"],[0.8888888888888888,\"#fdca26\"],[1.0,\"#f0f921\"]]}],\"heatmap\":[{\"type\":\"heatmap\",\"colorbar\":{\"outlinewidth\":0,\"ticks\":\"\"},\"colorscale\":[[0.0,\"#0d0887\"],[0.1111111111111111,\"#46039f\"],[0.2222222222222222,\"#7201a8\"],[0.3333333333333333,\"#9c179e\"],[0.4444444444444444,\"#bd3786\"],[0.5555555555555556,\"#d8576b\"],[0.6666666666666666,\"#ed7953\"],[0.7777777777777778,\"#fb9f3a\"],[0.8888888888888888,\"#fdca26\"],[1.0,\"#f0f921\"]]}],\"heatmapgl\":[{\"type\":\"heatmapgl\",\"colorbar\":{\"outlinewidth\":0,\"ticks\":\"\"},\"colorscale\":[[0.0,\"#0d0887\"],[0.1111111111111111,\"#46039f\"],[0.2222222222222222,\"#7201a8\"],[0.3333333333333333,\"#9c179e\"],[0.4444444444444444,\"#bd3786\"],[0.5555555555555556,\"#d8576b\"],[0.6666666666666666,\"#ed7953\"],[0.7777777777777778,\"#fb9f3a\"],[0.8888888888888888,\"#fdca26\"],[1.0,\"#f0f921\"]]}],\"contourcarpet\":[{\"type\":\"contourcarpet\",\"colorbar\":{\"outlinewidth\":0,\"ticks\":\"\"}}],\"contour\":[{\"type\":\"contour\",\"colorbar\":{\"outlinewidth\":0,\"ticks\":\"\"},\"colorscale\":[[0.0,\"#0d0887\"],[0.1111111111111111,\"#46039f\"],[0.2222222222222222,\"#7201a8\"],[0.3333333333333333,\"#9c179e\"],[0.4444444444444444,\"#bd3786\"],[0.5555555555555556,\"#d8576b\"],[0.6666666666666666,\"#ed7953\"],[0.7777777777777778,\"#fb9f3a\"],[0.8888888888888888,\"#fdca26\"],[1.0,\"#f0f921\"]]}],\"surface\":[{\"type\":\"surface\",\"colorbar\":{\"outlinewidth\":0,\"ticks\":\"\"},\"colorscale\":[[0.0,\"#0d0887\"],[0.1111111111111111,\"#46039f\"],[0.2222222222222222,\"#7201a8\"],[0.3333333333333333,\"#9c179e\"],[0.4444444444444444,\"#bd3786\"],[0.5555555555555556,\"#d8576b\"],[0.6666666666666666,\"#ed7953\"],[0.7777777777777778,\"#fb9f3a\"],[0.8888888888888888,\"#fdca26\"],[1.0,\"#f0f921\"]]}],\"mesh3d\":[{\"type\":\"mesh3d\",\"colorbar\":{\"outlinewidth\":0,\"ticks\":\"\"}}],\"scatter\":[{\"fillpattern\":{\"fillmode\":\"overlay\",\"size\":10,\"solidity\":0.2},\"type\":\"scatter\"}],\"parcoords\":[{\"type\":\"parcoords\",\"line\":{\"colorbar\":{\"outlinewidth\":0,\"ticks\":\"\"}}}],\"scatterpolargl\":[{\"type\":\"scatterpolargl\",\"marker\":{\"colorbar\":{\"outlinewidth\":0,\"ticks\":\"\"}}}],\"bar\":[{\"error_x\":{\"color\":\"#2a3f5f\"},\"error_y\":{\"color\":\"#2a3f5f\"},\"marker\":{\"line\":{\"color\":\"#E5ECF6\",\"width\":0.5},\"pattern\":{\"fillmode\":\"overlay\",\"size\":10,\"solidity\":0.2}},\"type\":\"bar\"}],\"scattergeo\":[{\"type\":\"scattergeo\",\"marker\":{\"colorbar\":{\"outlinewidth\":0,\"ticks\":\"\"}}}],\"scatterpolar\":[{\"type\":\"scatterpolar\",\"marker\":{\"colorbar\":{\"outlinewidth\":0,\"ticks\":\"\"}}}],\"histogram\":[{\"marker\":{\"pattern\":{\"fillmode\":\"overlay\",\"size\":10,\"solidity\":0.2}},\"type\":\"histogram\"}],\"scattergl\":[{\"type\":\"scattergl\",\"marker\":{\"colorbar\":{\"outlinewidth\":0,\"ticks\":\"\"}}}],\"scatter3d\":[{\"type\":\"scatter3d\",\"line\":{\"colorbar\":{\"outlinewidth\":0,\"ticks\":\"\"}},\"marker\":{\"colorbar\":{\"outlinewidth\":0,\"ticks\":\"\"}}}],\"scattermapbox\":[{\"type\":\"scattermapbox\",\"marker\":{\"colorbar\":{\"outlinewidth\":0,\"ticks\":\"\"}}}],\"scatterternary\":[{\"type\":\"scatterternary\",\"marker\":{\"colorbar\":{\"outlinewidth\":0,\"ticks\":\"\"}}}],\"scattercarpet\":[{\"type\":\"scattercarpet\",\"marker\":{\"colorbar\":{\"outlinewidth\":0,\"ticks\":\"\"}}}],\"carpet\":[{\"aaxis\":{\"endlinecolor\":\"#2a3f5f\",\"gridcolor\":\"white\",\"linecolor\":\"white\",\"minorgridcolor\":\"white\",\"startlinecolor\":\"#2a3f5f\"},\"baxis\":{\"endlinecolor\":\"#2a3f5f\",\"gridcolor\":\"white\",\"linecolor\":\"white\",\"minorgridcolor\":\"white\",\"startlinecolor\":\"#2a3f5f\"},\"type\":\"carpet\"}],\"table\":[{\"cells\":{\"fill\":{\"color\":\"#EBF0F8\"},\"line\":{\"color\":\"white\"}},\"header\":{\"fill\":{\"color\":\"#C8D4E3\"},\"line\":{\"color\":\"white\"}},\"type\":\"table\"}],\"barpolar\":[{\"marker\":{\"line\":{\"color\":\"#E5ECF6\",\"width\":0.5},\"pattern\":{\"fillmode\":\"overlay\",\"size\":10,\"solidity\":0.2}},\"type\":\"barpolar\"}],\"pie\":[{\"automargin\":true,\"type\":\"pie\"}]},\"layout\":{\"autotypenumbers\":\"strict\",\"colorway\":[\"#636efa\",\"#EF553B\",\"#00cc96\",\"#ab63fa\",\"#FFA15A\",\"#19d3f3\",\"#FF6692\",\"#B6E880\",\"#FF97FF\",\"#FECB52\"],\"font\":{\"color\":\"#2a3f5f\"},\"hovermode\":\"closest\",\"hoverlabel\":{\"align\":\"left\"},\"paper_bgcolor\":\"white\",\"plot_bgcolor\":\"#E5ECF6\",\"polar\":{\"bgcolor\":\"#E5ECF6\",\"angularaxis\":{\"gridcolor\":\"white\",\"linecolor\":\"white\",\"ticks\":\"\"},\"radialaxis\":{\"gridcolor\":\"white\",\"linecolor\":\"white\",\"ticks\":\"\"}},\"ternary\":{\"bgcolor\":\"#E5ECF6\",\"aaxis\":{\"gridcolor\":\"white\",\"linecolor\":\"white\",\"ticks\":\"\"},\"baxis\":{\"gridcolor\":\"white\",\"linecolor\":\"white\",\"ticks\":\"\"},\"caxis\":{\"gridcolor\":\"white\",\"linecolor\":\"white\",\"ticks\":\"\"}},\"coloraxis\":{\"colorbar\":{\"outlinewidth\":0,\"ticks\":\"\"}},\"colorscale\":{\"sequential\":[[0.0,\"#0d0887\"],[0.1111111111111111,\"#46039f\"],[0.2222222222222222,\"#7201a8\"],[0.3333333333333333,\"#9c179e\"],[0.4444444444444444,\"#bd3786\"],[0.5555555555555556,\"#d8576b\"],[0.6666666666666666,\"#ed7953\"],[0.7777777777777778,\"#fb9f3a\"],[0.8888888888888888,\"#fdca26\"],[1.0,\"#f0f921\"]],\"sequentialminus\":[[0.0,\"#0d0887\"],[0.1111111111111111,\"#46039f\"],[0.2222222222222222,\"#7201a8\"],[0.3333333333333333,\"#9c179e\"],[0.4444444444444444,\"#bd3786\"],[0.5555555555555556,\"#d8576b\"],[0.6666666666666666,\"#ed7953\"],[0.7777777777777778,\"#fb9f3a\"],[0.8888888888888888,\"#fdca26\"],[1.0,\"#f0f921\"]],\"diverging\":[[0,\"#8e0152\"],[0.1,\"#c51b7d\"],[0.2,\"#de77ae\"],[0.3,\"#f1b6da\"],[0.4,\"#fde0ef\"],[0.5,\"#f7f7f7\"],[0.6,\"#e6f5d0\"],[0.7,\"#b8e186\"],[0.8,\"#7fbc41\"],[0.9,\"#4d9221\"],[1,\"#276419\"]]},\"xaxis\":{\"gridcolor\":\"white\",\"linecolor\":\"white\",\"ticks\":\"\",\"title\":{\"standoff\":15},\"zerolinecolor\":\"white\",\"automargin\":true,\"zerolinewidth\":2},\"yaxis\":{\"gridcolor\":\"white\",\"linecolor\":\"white\",\"ticks\":\"\",\"title\":{\"standoff\":15},\"zerolinecolor\":\"white\",\"automargin\":true,\"zerolinewidth\":2},\"scene\":{\"xaxis\":{\"backgroundcolor\":\"#E5ECF6\",\"gridcolor\":\"white\",\"linecolor\":\"white\",\"showbackground\":true,\"ticks\":\"\",\"zerolinecolor\":\"white\",\"gridwidth\":2},\"yaxis\":{\"backgroundcolor\":\"#E5ECF6\",\"gridcolor\":\"white\",\"linecolor\":\"white\",\"showbackground\":true,\"ticks\":\"\",\"zerolinecolor\":\"white\",\"gridwidth\":2},\"zaxis\":{\"backgroundcolor\":\"#E5ECF6\",\"gridcolor\":\"white\",\"linecolor\":\"white\",\"showbackground\":true,\"ticks\":\"\",\"zerolinecolor\":\"white\",\"gridwidth\":2}},\"shapedefaults\":{\"line\":{\"color\":\"#2a3f5f\"}},\"annotationdefaults\":{\"arrowcolor\":\"#2a3f5f\",\"arrowhead\":0,\"arrowwidth\":1},\"geo\":{\"bgcolor\":\"white\",\"landcolor\":\"#E5ECF6\",\"subunitcolor\":\"white\",\"showland\":true,\"showlakes\":true,\"lakecolor\":\"white\"},\"title\":{\"x\":0.05},\"mapbox\":{\"style\":\"light\"}}},\"coloraxis\":{\"colorbar\":{\"title\":{\"text\":\"Média\"}},\"colorscale\":[[0.0,\"#440154\"],[0.1111111111111111,\"#482878\"],[0.2222222222222222,\"#3e4989\"],[0.3333333333333333,\"#31688e\"],[0.4444444444444444,\"#26828e\"],[0.5555555555555556,\"#1f9e89\"],[0.6666666666666666,\"#35b779\"],[0.7777777777777778,\"#6ece58\"],[0.8888888888888888,\"#b5de2b\"],[1.0,\"#fde725\"]]},\"legend\":{\"tracegroupgap\":0},\"title\":{\"text\":\"Media de desconto por categoria e marca (Excluindo grupos sem descontos)\"}},                        {\"responsive\": true}                    ).then(function(){\n",
              "                            \n",
              "var gd = document.getElementById('697c0ab7-02ce-43a8-98cf-bd4395987611');\n",
              "var x = new MutationObserver(function (mutations, observer) {{\n",
              "        var display = window.getComputedStyle(gd).display;\n",
              "        if (!display || display === 'none') {{\n",
              "            console.log([gd, 'removed!']);\n",
              "            Plotly.purge(gd);\n",
              "            observer.disconnect();\n",
              "        }}\n",
              "}});\n",
              "\n",
              "// Listen for the removal of the full notebook cells\n",
              "var notebookContainer = gd.closest('#notebook-container');\n",
              "if (notebookContainer) {{\n",
              "    x.observe(notebookContainer, {childList: true});\n",
              "}}\n",
              "\n",
              "// Listen for the clearing of the current output cell\n",
              "var outputEl = gd.closest('.output');\n",
              "if (outputEl) {{\n",
              "    x.observe(outputEl, {childList: true});\n",
              "}}\n",
              "\n",
              "                        })                };                            </script>        </div>\n",
              "</body>\n",
              "</html>"
            ]
          },
          "metadata": {}
        }
      ]
    }
  ]
}